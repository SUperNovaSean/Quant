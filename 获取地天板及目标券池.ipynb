{
 "cells": [
  {
   "cell_type": "code",
   "execution_count": 15,
   "id": "6ad20777-6e64-4edf-add0-598920b13e50",
   "metadata": {
    "execution": {
     "iopub.execute_input": "2024-03-11T22:05:25.270335Z",
     "iopub.status.busy": "2024-03-11T22:05:25.269932Z",
     "iopub.status.idle": "2024-03-11T22:05:25.483380Z",
     "shell.execute_reply": "2024-03-11T22:05:25.482615Z",
     "shell.execute_reply.started": "2024-03-11T22:05:25.270304Z"
    },
    "tags": []
   },
   "outputs": [],
   "source": [
    "df_high_low=query_iwencai(\"2023年出现过地天板的股票，后一个交易日涨跌幅，后三个交易日涨跌幅\")"
   ]
  },
  {
   "cell_type": "code",
   "execution_count": 4,
   "id": "f29aa61d-d172-4ee7-8406-e4038bd87c9c",
   "metadata": {
    "execution": {
     "iopub.execute_input": "2024-03-11T21:58:53.948389Z",
     "iopub.status.busy": "2024-03-11T21:58:53.947932Z",
     "iopub.status.idle": "2024-03-11T21:58:53.998252Z",
     "shell.execute_reply": "2024-03-11T21:58:53.997380Z",
     "shell.execute_reply.started": "2024-03-11T21:58:53.948358Z"
    },
    "tags": []
   },
   "outputs": [],
   "source": [
    "df_high_low.to_excel(\"2023地天板.xlsx\",index=False,engine='openpyxl')"
   ]
  },
  {
   "cell_type": "code",
   "execution_count": 49,
   "id": "e6a306ab-a9b5-4e5e-ab25-6b7b8a1dacae",
   "metadata": {
    "execution": {
     "iopub.execute_input": "2024-03-11T22:23:07.995493Z",
     "iopub.status.busy": "2024-03-11T22:23:07.995101Z",
     "iopub.status.idle": "2024-03-11T22:23:08.236866Z",
     "shell.execute_reply": "2024-03-11T22:23:08.235896Z",
     "shell.execute_reply.started": "2024-03-11T22:23:07.995465Z"
    },
    "tags": []
   },
   "outputs": [],
   "source": [
    "df_stock=query_iwencai(\"2023年，10：00前成交额排序，当日涨跌幅，5日均线斜率>-10，前三个交易日区间涨幅，后一个交易日最大涨幅，后一个交易日涨幅，前三个交易日区间涨幅在-10%到-15%之间，每个交易日前两名\")"
   ]
  },
  {
   "cell_type": "code",
   "execution_count": 50,
   "id": "33645239-d01c-44d8-98e9-bae6918bf2d9",
   "metadata": {
    "execution": {
     "iopub.execute_input": "2024-03-11T22:23:09.084610Z",
     "iopub.status.busy": "2024-03-11T22:23:09.084195Z",
     "iopub.status.idle": "2024-03-11T22:23:09.098035Z",
     "shell.execute_reply": "2024-03-11T22:23:09.097352Z",
     "shell.execute_reply.started": "2024-03-11T22:23:09.084581Z"
    },
    "tags": []
   },
   "outputs": [
    {
     "data": {
      "text/html": [
       "<div>\n",
       "<style scoped>\n",
       "    .dataframe tbody tr th:only-of-type {\n",
       "        vertical-align: middle;\n",
       "    }\n",
       "\n",
       "    .dataframe tbody tr th {\n",
       "        vertical-align: top;\n",
       "    }\n",
       "\n",
       "    .dataframe thead th {\n",
       "        text-align: right;\n",
       "    }\n",
       "</style>\n",
       "<table border=\"1\" class=\"dataframe\">\n",
       "  <thead>\n",
       "    <tr style=\"text-align: right;\">\n",
       "      <th></th>\n",
       "      <th>股票代码</th>\n",
       "      <th>股票简称</th>\n",
       "      <th>涨跌幅:前复权</th>\n",
       "      <th>区间涨跌幅:前复权</th>\n",
       "      <th>最大涨幅</th>\n",
       "      <th>分时区间成交额</th>\n",
       "      <th>分时区间成交额排名</th>\n",
       "      <th>分时区间成交额排名名次</th>\n",
       "      <th>分时区间成交额排名基数</th>\n",
       "    </tr>\n",
       "  </thead>\n",
       "  <tbody>\n",
       "    <tr>\n",
       "      <th>0</th>\n",
       "      <td>430510.BJ</td>\n",
       "      <td>丰光精密</td>\n",
       "      <td>-4.336</td>\n",
       "      <td>-13.371065</td>\n",
       "      <td>-1.875</td>\n",
       "      <td>None</td>\n",
       "      <td>1/5361</td>\n",
       "      <td>1</td>\n",
       "      <td>5361</td>\n",
       "    </tr>\n",
       "    <tr>\n",
       "      <th>1</th>\n",
       "      <td>603273.SH</td>\n",
       "      <td>天元智能</td>\n",
       "      <td>-4.129</td>\n",
       "      <td>-14.054367</td>\n",
       "      <td>-0.774</td>\n",
       "      <td>None</td>\n",
       "      <td>1/5361</td>\n",
       "      <td>1</td>\n",
       "      <td>5361</td>\n",
       "    </tr>\n",
       "    <tr>\n",
       "      <th>2</th>\n",
       "      <td>873570.BJ</td>\n",
       "      <td>坤博精工</td>\n",
       "      <td>0.492</td>\n",
       "      <td>-10.756914</td>\n",
       "      <td>3.229</td>\n",
       "      <td>None</td>\n",
       "      <td>1/5361</td>\n",
       "      <td>1</td>\n",
       "      <td>5361</td>\n",
       "    </tr>\n",
       "    <tr>\n",
       "      <th>3</th>\n",
       "      <td>832876.BJ</td>\n",
       "      <td>慧为智能</td>\n",
       "      <td>-2.207</td>\n",
       "      <td>-10.847701</td>\n",
       "      <td>1.024</td>\n",
       "      <td>None</td>\n",
       "      <td>1/5361</td>\n",
       "      <td>1</td>\n",
       "      <td>5361</td>\n",
       "    </tr>\n",
       "    <tr>\n",
       "      <th>4</th>\n",
       "      <td>835207.BJ</td>\n",
       "      <td>众诚科技</td>\n",
       "      <td>-1.485</td>\n",
       "      <td>-10.360360</td>\n",
       "      <td>0.792</td>\n",
       "      <td>None</td>\n",
       "      <td>1/5361</td>\n",
       "      <td>1</td>\n",
       "      <td>5361</td>\n",
       "    </tr>\n",
       "    <tr>\n",
       "      <th>5</th>\n",
       "      <td>870357.BJ</td>\n",
       "      <td>雅葆轩</td>\n",
       "      <td>-1.239</td>\n",
       "      <td>-10.652396</td>\n",
       "      <td>0.563</td>\n",
       "      <td>None</td>\n",
       "      <td>1/5361</td>\n",
       "      <td>1</td>\n",
       "      <td>5361</td>\n",
       "    </tr>\n",
       "    <tr>\n",
       "      <th>6</th>\n",
       "      <td>871263.BJ</td>\n",
       "      <td>莱赛激光</td>\n",
       "      <td>-0.060</td>\n",
       "      <td>-14.042334</td>\n",
       "      <td>0.000</td>\n",
       "      <td>None</td>\n",
       "      <td>1/5361</td>\n",
       "      <td>1</td>\n",
       "      <td>5361</td>\n",
       "    </tr>\n",
       "    <tr>\n",
       "      <th>7</th>\n",
       "      <td>002165.SZ</td>\n",
       "      <td>红宝丽</td>\n",
       "      <td>0.292</td>\n",
       "      <td>-11.597938</td>\n",
       "      <td>0.292</td>\n",
       "      <td>None</td>\n",
       "      <td>1/5361</td>\n",
       "      <td>1</td>\n",
       "      <td>5361</td>\n",
       "    </tr>\n",
       "  </tbody>\n",
       "</table>\n",
       "</div>"
      ],
      "text/plain": [
       "        股票代码  股票简称 涨跌幅:前复权  区间涨跌幅:前复权    最大涨幅 分时区间成交额 分时区间成交额排名  分时区间成交额排名名次  \\\n",
       "0  430510.BJ  丰光精密  -4.336 -13.371065  -1.875    None    1/5361            1   \n",
       "1  603273.SH  天元智能  -4.129 -14.054367  -0.774    None    1/5361            1   \n",
       "2  873570.BJ  坤博精工   0.492 -10.756914   3.229    None    1/5361            1   \n",
       "3  832876.BJ  慧为智能  -2.207 -10.847701   1.024    None    1/5361            1   \n",
       "4  835207.BJ  众诚科技  -1.485 -10.360360   0.792    None    1/5361            1   \n",
       "5  870357.BJ   雅葆轩  -1.239 -10.652396   0.563    None    1/5361            1   \n",
       "6  871263.BJ  莱赛激光  -0.060 -14.042334   0.000    None    1/5361            1   \n",
       "7  002165.SZ   红宝丽   0.292 -11.597938   0.292    None    1/5361            1   \n",
       "\n",
       "   分时区间成交额排名基数  \n",
       "0         5361  \n",
       "1         5361  \n",
       "2         5361  \n",
       "3         5361  \n",
       "4         5361  \n",
       "5         5361  \n",
       "6         5361  \n",
       "7         5361  "
      ]
     },
     "execution_count": 50,
     "metadata": {},
     "output_type": "execute_result"
    }
   ],
   "source": [
    "df_stock.to_excel(\"\")"
   ]
  },
  {
   "cell_type": "code",
   "execution_count": null,
   "id": "b8e6ae6f-6ae5-4ba1-88ce-65d61ed7fc5a",
   "metadata": {},
   "outputs": [],
   "source": []
  }
 ],
 "metadata": {
  "kernelspec": {
   "display_name": "Python 3",
   "language": "python",
   "name": "python3"
  },
  "language_info": {
   "codemirror_mode": {
    "name": "ipython",
    "version": 3
   },
   "file_extension": ".py",
   "mimetype": "text/x-python",
   "name": "python",
   "nbconvert_exporter": "python",
   "pygments_lexer": "ipython3",
   "version": "3.8.8"
  }
 },
 "nbformat": 4,
 "nbformat_minor": 5
}
