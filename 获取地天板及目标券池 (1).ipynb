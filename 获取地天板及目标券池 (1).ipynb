{
 "cells": [
  {
   "cell_type": "code",
   "execution_count": 15,
   "id": "6ad20777-6e64-4edf-add0-598920b13e50",
   "metadata": {
    "execution": {
     "iopub.execute_input": "2024-03-11T22:05:25.270335Z",
     "iopub.status.busy": "2024-03-11T22:05:25.269932Z",
     "iopub.status.idle": "2024-03-11T22:05:25.483380Z",
     "shell.execute_reply": "2024-03-11T22:05:25.482615Z",
     "shell.execute_reply.started": "2024-03-11T22:05:25.270304Z"
    },
    "tags": []
   },
   "outputs": [],
   "source": [
    "df_high_low=query_iwencai(\"2023年出现过地天板的股票，后一个交易日涨跌幅，后三个交易日涨跌幅\")"
   ]
  },
  {
   "cell_type": "code",
   "execution_count": 4,
   "id": "f29aa61d-d172-4ee7-8406-e4038bd87c9c",
   "metadata": {
    "execution": {
     "iopub.execute_input": "2024-03-11T21:58:53.948389Z",
     "iopub.status.busy": "2024-03-11T21:58:53.947932Z",
     "iopub.status.idle": "2024-03-11T21:58:53.998252Z",
     "shell.execute_reply": "2024-03-11T21:58:53.997380Z",
     "shell.execute_reply.started": "2024-03-11T21:58:53.948358Z"
    },
    "tags": []
   },
   "outputs": [],
   "source": [
    "df_high_low.to_excel(\"2023地天板.xlsx\",index=False,engine='openpyxl')"
   ]
  },
  {
   "cell_type": "code",
   "execution_count": 140,
   "id": "17be94cf-b14b-40c2-bc8e-3822f86d0366",
   "metadata": {
    "execution": {
     "iopub.execute_input": "2024-03-12T03:12:06.866204Z",
     "iopub.status.busy": "2024-03-12T03:12:06.865802Z",
     "iopub.status.idle": "2024-03-12T03:13:19.376560Z",
     "shell.execute_reply": "2024-03-12T03:13:19.375392Z",
     "shell.execute_reply.started": "2024-03-12T03:12:06.866172Z"
    },
    "tags": []
   },
   "outputs": [],
   "source": [
    "date_list=get_trade_days('20230101','20231231')\n",
    "new_list=date_list.strftime('%Y%m%d')\n",
    "df_target=pd.DataFrame()\n",
    "for date in new_list:\n",
    "    df_daily=query_iwencai(f\"{date}，10：00前成交额排序，当日涨跌幅，5日均线斜率>-10，前三个交易日区间涨幅，后一个交易日最大涨幅，后一个交易日涨幅，前三个交易日区间涨幅在-10%到-15%之间\")[:2]\n",
    "    df_daily['Date']=date\n",
    "    df_target=pd.concat([df_target,df_daily],ignore_index=True)"
   ]
  },
  {
   "cell_type": "code",
   "execution_count": 142,
   "id": "a55e0b6c-85a2-44b8-92f6-b8d26a2ba784",
   "metadata": {
    "execution": {
     "iopub.execute_input": "2024-03-12T03:14:20.047070Z",
     "iopub.status.busy": "2024-03-12T03:14:20.046574Z",
     "iopub.status.idle": "2024-03-12T03:14:20.249394Z",
     "shell.execute_reply": "2024-03-12T03:14:20.248467Z",
     "shell.execute_reply.started": "2024-03-12T03:14:20.047031Z"
    },
    "tags": []
   },
   "outputs": [],
   "source": [
    "df_target.to_excel(\"目标券池.xlsx\",index=False,engine='openpyxl')"
   ]
  },
  {
   "cell_type": "code",
   "execution_count": null,
   "id": "478a034b-93eb-4310-a945-0a2c4e8a60d0",
   "metadata": {},
   "outputs": [],
   "source": []
  }
 ],
 "metadata": {
  "kernelspec": {
   "display_name": "Python 3",
   "language": "python",
   "name": "python3"
  },
  "language_info": {
   "codemirror_mode": {
    "name": "ipython",
    "version": 3
   },
   "file_extension": ".py",
   "mimetype": "text/x-python",
   "name": "python",
   "nbconvert_exporter": "python",
   "pygments_lexer": "ipython3",
   "version": "3.8.8"
  }
 },
 "nbformat": 4,
 "nbformat_minor": 5
}
