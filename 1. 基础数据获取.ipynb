{
 "cells": [
  {
   "cell_type": "code",
   "execution_count": 1,
   "metadata": {},
   "outputs": [],
   "source": [
    "from factor_analysis_adv import *"
   ]
  },
  {
   "cell_type": "markdown",
   "metadata": {},
   "source": [
    "### 1 基础设置"
   ]
  },
  {
   "cell_type": "code",
   "execution_count": 2,
   "metadata": {},
   "outputs": [
    {
     "name": "stdout",
     "output_type": "stream",
     "text": [
      "训练开始: 2020-01-01 \n",
      "训练结束: 2024-04-01\n"
     ]
    }
   ],
   "source": [
    "# 时间\n",
    "start_date = '2020-01-01'\n",
    "end_date = '2024-04-01'\n",
    "\n",
    "print('训练开始:',start_date,'\\n训练结束:',end_date)\n",
    "\n",
    "# 标的\n",
    "index_item = '000852.XSHG'\n",
    "index_fix = INDEX_FIX(start_date,end_date,index_item)\n",
    "stock_list = index_fix.columns.tolist()\n",
    "date_list = index_fix.index.tolist()"
   ]
  },
  {
   "cell_type": "markdown",
   "metadata": {},
   "source": [
    "### 2 数据获取"
   ]
  },
  {
   "cell_type": "code",
   "execution_count": 3,
   "metadata": {},
   "outputs": [],
   "source": [
    "# 特征构建\n",
    "factor_names = ['volume', 'high', 'prev_close', 'total_turnover', 'close', 'num_trades','open', 'low']\n",
    "price = get_price(stock_list,\n",
    "               start_date,\n",
    "               end_date,\n",
    "               fields = factor_names\n",
    "               )\n",
    "\n",
    "# 补充因子\n",
    "def turnover_rate(order_book_ids,start_date,end_date):\n",
    "    return rqdatac.get_turnover_rate(order_book_ids,start_date,end_date,fields='today').today.unstack('order_book_id').reindex(columns=order_book_ids,index =pd.to_datetime(rqdatac.get_trading_dates(start_date,end_date)))\n",
    "\n",
    "DAILY_TURNOVER_RATE = UserDefinedLeafFactor('DAILY_TURNOVER_RATE',turnover_rate)\n",
    "\n",
    "turnover_ratio = execute_factor(DAILY_TURNOVER_RATE,stock_list,start_date,end_date)"
   ]
  },
  {
   "cell_type": "markdown",
   "metadata": {},
   "source": [
    "### 3 特征构建"
   ]
  },
  {
   "cell_type": "code",
   "execution_count": 6,
   "metadata": {},
   "outputs": [],
   "source": [
    "# 数据整理\n",
    "raw_factor = {}\n",
    "for i in factor_names:\n",
    "    raw_factor[i] = price[i].unstack('order_book_id')\n",
    "raw_factor['turnover_ratio'] = turnover_ratio\n",
    "\n",
    "\n",
    "# 数据清洗\n",
    "neu_factor = {}\n",
    "for k,v in raw_factor.items():\n",
    "    neu_factor[k] = data_clean(v,index_fix,index_item)\n",
    "\n",
    "\n",
    "# 构建特征\n",
    "gp_data = pd.DataFrame()\n",
    "for k,v in neu_factor.items():\n",
    "    gp_data[k] = v.stack()\n",
    "\n",
    "\n",
    "# 预测目标 T+1 (标的未来一期收益)\n",
    "ret_1 = get_price(stock_list,\n",
    "                  start_date,\n",
    "                  get_next_trading_date(end_date,2)\n",
    "                  ,fields='open').open.unstack('order_book_id').pct_change(1).shift(-2).dropna(how ='all')\n",
    "gp_data['ret_1'] = ret_1.stack()\n",
    "gp_data['excess_return'] = (ret_1.sub(ret_1.mean(axis = 1),axis = 0)).stack()"
   ]
  },
  {
   "cell_type": "markdown",
   "metadata": {},
   "source": [
    "### 4 数据存储"
   ]
  },
  {
   "cell_type": "code",
   "execution_count": 7,
   "metadata": {},
   "outputs": [],
   "source": [
    "create_dir_not_exist('./data')\n",
    "gp_data.to_pickle('./data/gp_data.pkl')"
   ]
  },
  {
   "cell_type": "code",
   "execution_count": 1,
   "metadata": {},
   "outputs": [],
   "source": []
  },
  {
   "cell_type": "code",
   "execution_count": null,
   "metadata": {},
   "outputs": [],
   "source": []
  }
 ],
 "metadata": {
  "kernelspec": {
   "display_name": "base",
   "language": "python",
   "name": "python3"
  },
  "language_info": {
   "codemirror_mode": {
    "name": "ipython",
    "version": 3
   },
   "file_extension": ".py",
   "mimetype": "text/x-python",
   "name": "python",
   "nbconvert_exporter": "python",
   "pygments_lexer": "ipython3",
   "version": "3.9.18"
  }
 },
 "nbformat": 4,
 "nbformat_minor": 2
}
